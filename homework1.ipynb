{
 "cells": [
  {
   "cell_type": "markdown",
   "metadata": {},
   "source": [
    "## Домашнее задание №0 [0.2 балла]"
   ]
  },
  {
   "cell_type": "markdown",
   "metadata": {},
   "source": [
    "**Условие**:\n",
    "\n",
    "Функция `delete_zeros_from_array` принимает на вход массив целых чисел из промежутка [0; 5] и удалает из него все _нули_. Алгоритм должен иметь сложность `O(N)`, где N - длина массива, и использовать `O(1)` дополнительной памяти.\n",
    "\n",
    "Построить **графики** зависимости времени работы алгоритма от количества элементов в нем. \n",
    "\n",
    "**Примечания**:\n",
    "\n",
    "1) Для наглядности лучше генерить массивы, в которых количество удаляемых элементов **больше трети** от всех элементов.\n",
    "\n",
    "2) В такой постановке можно проверить, как разработчик выбирает имена переменных и думает ли о функции глобально. Например, следующим вопросом было бы \"А что если хотим удалять единицы?\""
   ]
  },
  {
   "cell_type": "code",
   "execution_count": 84,
   "metadata": {},
   "outputs": [],
   "source": [
    "from functools import partial\n",
    "\n",
    "def delete_elements_from_array(array, element):\n",
    "    \"\"\"\n",
    "        This function deletes all elements that equal to element from array. \n",
    "        \n",
    "        :param array: Input array\n",
    "        :type array: list\n",
    "        :param element: Element that must be deleted from array\n",
    "        :type element: int\n",
    "        \n",
    "        :returns: New array without element with the other elements in the same order\n",
    "        :rtype: list\n",
    "    \"\"\"\n",
    "    if type(array) != list:\n",
    "        raise TypeError(\"parameter array should be a list\")\n",
    "    if type(element) != int:\n",
    "        raise TypeError(\"parameter element must be an integer\")\n",
    "    i = 0\n",
    "    to_delete_count = 0\n",
    "    while i + to_delete_count < len(array):\n",
    "        if array[i + to_delete_count] == element:\n",
    "            to_delete_count += 1\n",
    "            while i + to_delete_count < len(array):\n",
    "                if array[i + to_delete_count] != element:\n",
    "                    array[i + to_delete_count], array[i] = array[i], array[i + to_delete_count]\n",
    "                    i += 1\n",
    "                else:\n",
    "                    break\n",
    "        else:\n",
    "            i += 1\n",
    "    \n",
    "    return array[:len(array) - to_delete_count]\n",
    "            \n",
    "    \n",
    "delete_zeros_from_array = partial(delete_elements_from_array, element=0)"
   ]
  },
  {
   "cell_type": "code",
   "execution_count": 87,
   "metadata": {},
   "outputs": [],
   "source": [
    "ELEMENT_DEL = 0\n",
    "REPEAT_NUM = 5\n",
    "\n",
    "from random import choices, shuffle\n",
    "import time\n",
    "\n",
    "def generate_array_for_delete(element_to_delete, length, element_min=0, element_max=5):\n",
    "    \"\"\"\n",
    "        This function generates random array where number of elements that would be deleted \n",
    "        is approximately 35% of the total number of elements in the array. \n",
    "        \n",
    "        :param element_to_delete: Element that would be deleted from array\n",
    "        :type element_to_delete: int\n",
    "        :param length: Total number of elements in array \n",
    "        :type length: int\n",
    "        :param element_min: the value of min element of array (exclude element_to_delete) \n",
    "        :type element_min: int\n",
    "        :param element_max: the value of max element of array (exclude element_to_delete) \n",
    "        :type element_max: int\n",
    "        \n",
    "        :returns: generated array\n",
    "        :rtype: list\n",
    "    \"\"\"\n",
    "    for param_name, param in zip(['element_to_delete', 'length', 'element_min', 'element_max'],\n",
    "                                 [element_to_delete, length, element_min, element_max]):\n",
    "        if type(param) != int:\n",
    "            raise TypeError(\"parameter {} must be of type int\".format(param_name))\n",
    "        \n",
    "    others = [element for element in range(element_min, element_max+1) if element != element_to_delete]\n",
    "    n_delete_elements = round(length*0.35)\n",
    "    array = choices(others, k=length-n_delete_elements)+[element_to_delete]*n_delete_elements\n",
    "    return array\n",
    "\n",
    "logs = {'n': [], 'time': []}\n",
    "for length in range(10000, 1000000, 10000):\n",
    "    array = generate_array_for_delete(ELEMENT_DEL, length)\n",
    "    t = []\n",
    "    for _ in range(REPEAT_NUM):\n",
    "        shuffle(array)\n",
    "        start = time.time()\n",
    "        cleaned_array = delete_zeros_from_array(array)\n",
    "        t.append(time.time()-start)\n",
    "    logs['time'].append(sum(t)/REPEAT_NUM)    \n",
    "    logs['n'].append(length)\n"
   ]
  },
  {
   "cell_type": "code",
   "execution_count": 88,
   "metadata": {},
   "outputs": [
    {
     "data": {
      "image/png": "[encoded data removed]",
      "text/plain": [
       "<Figure size 864x288 with 1 Axes>"
      ]
     },
     "metadata": {},
     "output_type": "display_data"
    }
   ],
   "source": [
    "import matplotlib.pyplot as plt\n",
    "%matplotlib inline\n",
    "\n",
    "plt.figure(figsize=(12,4))\n",
    "plt.plot(logs['n'], logs['time'])\n",
    "plt.xlabel('number of elements')\n",
    "plt.ylabel('time');"
   ]
  },
  {
   "cell_type": "markdown",
   "metadata": {},
   "source": [
    "## Домашнее задание №1 [0.05 балла]\n",
    "\n",
    "**Условие**:\n",
    "\n",
    "Написать функцию (-и), которая принимает на вход 3 комплексных числа и выводит минимальное из них по модулю без использования функций min, max, sort и т.д.\n",
    "\n",
    "\n",
    "**Комментарии**:\n",
    "\n",
    "1) В процессе сдачи задания, можно будет получить дополнительные баллы\n",
    "\n",
    "2) Код должен быть пригоден для промышленного использования"
   ]
  },
  {
   "cell_type": "code",
   "execution_count": 74,
   "metadata": {},
   "outputs": [],
   "source": [
    "MAX_NUMBERS_COUNT = 3\n",
    "\n",
    "class InputError(Exception):\n",
    "    def __init__(self, message):\n",
    "        self.message = \"InputError: {}\".format(message)\n",
    "\n",
    "def convert_to_complex(num):\n",
    "    \"\"\"\n",
    "        This function check if num is of type complex and if not tries to convert it to this type.\n",
    "        \n",
    "        :param num: Complex number\n",
    "        :type element_to_delete: complex, int, tuple of length 2\n",
    "        \n",
    "        :returns: converted num\n",
    "        :rtype: complex\n",
    "    \"\"\"    \n",
    "    if type(num) == tuple and len(num) == 2:\n",
    "        num = complex(num[0], num[1])\n",
    "    elif type(num) == int:\n",
    "        num = complex(num, 0)\n",
    "    elif type(num) != complex:\n",
    "        raise TypeError(\"number should be of type Complex, int or tuple of length 2\")\n",
    "    return num\n",
    "    \n",
    "        \n",
    "def min_complex_num(*args):\n",
    "    \"\"\"\n",
    "        This function finds the minimal complex number (in absolute value) among input numbers.\n",
    "        Max number of input numbers should be equal to MAX_NUMBERS_COUNT.\n",
    "        \n",
    "        :param args: MAX_NUMBERS_COUNT of complex numbers\n",
    "        :type args: complex, int, tuple of length 2\n",
    "        \n",
    "        :returns: minimal complex number among input numbers\n",
    "        :rtype: complex\n",
    "    \"\"\"\n",
    "\n",
    "    if len(args) > MAX_NUMBERS_COUNT:\n",
    "        raise InputError(\"too much numbers. {} complex numbers are required\".format(MAX_NUMBERS_COUNT))\n",
    "    elif len(args) < MAX_NUMBERS_COUNT:\n",
    "        raise InputError(\"not enought numbers. {} complex numbers are required\".format(MAX_NUMBERS_COUNT))\n",
    "\n",
    "    minimal = convert_to_complex(args[0])            \n",
    "    for i in range(1, MAX_NUMBERS_COUNT):\n",
    "        num = convert_to_complex(args[i])\n",
    "        if abs(num) < abs(minimal):\n",
    "            minimal = num\n",
    "\n",
    "    return minimal\n"
   ]
  },
  {
   "cell_type": "code",
   "execution_count": 75,
   "metadata": {},
   "outputs": [
    {
     "data": {
      "text/plain": [
       "(6-1j)"
      ]
     },
     "execution_count": 75,
     "metadata": {},
     "output_type": "execute_result"
    }
   ],
   "source": [
    "min_complex_num(complex(7,2), (6,-1), 9)"
   ]
  },
  {
   "cell_type": "markdown",
   "metadata": {},
   "source": [
    "## Домашнее задание №2 [0.18 балла]\n",
    "\n",
    "**Условие**:\n",
    "\n",
    "Вы - банкомат, который работает по следующей схеме: считывает номер вставленной в него карты, парсит его на 4 равные части и генерирует 4 числа Фибоначчи с номерами, соответствущими распаршенным частям. Затем генерирует числа из всевозможных перестановок полученных чисел Фибоначчи (конкатенацией).\n",
    "\n",
    "Для каждого числа из полученного набора банкомат находит НОД с введеным пользователем паролем и возвращает медиану из полученных НОДов. \n",
    "\n",
    "**Комментарии**:\n",
    "\n",
    "1) Поток клиентов большой, операции повторяющиеся - хорошо бы, чтобы со временем банкомат отвечал быстрее на запросы.\n",
    "\n",
    "2) За неполное решение также дается часть баллов.\n",
    "\n",
    "**Ключевые слова**: lru_cache, permutations, алгоритм Евклида"
   ]
  },
  {
   "cell_type": "code",
   "execution_count": 81,
   "metadata": {},
   "outputs": [],
   "source": [
    "CACHE_MAXSIZE = 512\n",
    "\n",
    "import re\n",
    "import numpy as np\n",
    "from itertools import permutations\n",
    "from functools import lru_cache\n",
    "\n",
    "class InputError(Exception):\n",
    "    def __init__(self, message):\n",
    "        self.message = \"InputError: {}\".format(message)\n",
    "\n",
    "        \n",
    "def gcd(num1, num2):\n",
    "    \"\"\"\n",
    "        This function finds the greatest common divisor of num1 and num2.\n",
    "        \n",
    "        :param num1: 1st number\n",
    "        :param num2: 2nd number\n",
    "        :type num1, num2: int\n",
    "        \n",
    "        :returns: GCD\n",
    "        :rtype: int\n",
    "    \"\"\"\n",
    "    if type(num1) != int or type(num2) != int:\n",
    "        raise TypeError(\"numbers should be of type int\")\n",
    "    if num2 > num1:\n",
    "        num1, num2 = num2, num1\n",
    "    while num2 != 0:\n",
    "        num1, num2 = num2, num1 % num2\n",
    "    return num1\n",
    "\n",
    "@lru_cache(maxsize=CACHE_MAXSIZE)\n",
    "def fib(n):\n",
    "    \"\"\"\n",
    "        This function generates the n-th Fibonacci number.\n",
    "        \n",
    "        :param n: sequence number\n",
    "        :type n: int\n",
    "        \n",
    "        :returns: n-th Fibonacci number\n",
    "        :rtype: int\n",
    "    \"\"\"\n",
    "    if (n < 0) or type(n) != int:\n",
    "        raise ValueError(\"sequence number must be positive integer\")\n",
    "    elif (n == 0) or (n == 1):\n",
    "        fibn = n\n",
    "    else:\n",
    "        fib1 = 0\n",
    "        fib2 = 1\n",
    "        i = 2\n",
    "        for i in range(2, n+1):\n",
    "            fibn = fib1 + fib2\n",
    "            fib1, fib2 = fib2, fibn\n",
    "    return fibn\n",
    "\n",
    "\n",
    "def median_gcd_for_cardnumber(card_number, password):\n",
    "    \"\"\"\n",
    "        This function:\n",
    "            - divides card_number into 4 equal parts;\n",
    "            - generates 4 Fibonacci numbers, which sequence numbers are equal to parts of card_number;\n",
    "            - generates permutations of found Fibonacci numbers and concats them;\n",
    "            - finds the median of greatest common divisors of generated concatenated numbers and password.\n",
    "        \n",
    "        :param card_number: the number of bank's card (number should be dividable into 4 equal parts)\n",
    "        :type card_number: str of numbers\n",
    "        :param password: -\n",
    "        :type password: str of numbers\n",
    "        \n",
    "        :returns: median\n",
    "        :rtype: int\n",
    "    \"\"\"    \n",
    "    for param_name, param in zip(['card_number', 'password'], [card_number, password]):\n",
    "        if type(param) != str:\n",
    "            raise TypeError(\"expected string type for parameter {}\".format(param_name))\n",
    "        \n",
    "    card_number = re.sub(r\"\\D\", \"\", card_number)\n",
    "    password = int(re.sub(r\"\\D\", \"\", password))\n",
    "    \n",
    "    if len(card_number) % 4 == 0:\n",
    "        step = len(card_number) // 4\n",
    "        numbers = [fib(int(card_number[i:i+step])) \n",
    "                   for i in range(0, len(card_number), step)]\n",
    "        permuts = [int(''.join([str(p) for p in perm]))\n",
    "                   for perm in permutations(numbers)]\n",
    "        gcds = [gcd(num, password) for num in permuts]\n",
    "        median = sorted(gcds)[len(gcds) // 2]\n",
    "    else:\n",
    "        raise ValueError(\"card number must divide into 4 equal parts\")\n",
    "    return median\n"
   ]
  },
  {
   "cell_type": "code",
   "execution_count": 82,
   "metadata": {},
   "outputs": [
    {
     "data": {
      "text/plain": [
       "5"
      ]
     },
     "execution_count": 82,
     "metadata": {},
     "output_type": "execute_result"
    }
   ],
   "source": [
    "card_number = \"1002 7685 0039 9125\"\n",
    "median_gcd_for_cardnumber(card_number, '1625')"
   ]
  },
  {
   "cell_type": "markdown",
   "metadata": {},
   "source": [
    "## Домашнее задание №3 [0 - 0.1 балла]\n",
    "\n",
    "**Условие:**\n",
    "    \n",
    "Сравнить скорость работы и потребление памяти list и deque.\n",
    "\n",
    "**Комментарий:**\n",
    "\n",
    "Количество баллов зависит от полноты сравнения."
   ]
  },
  {
   "cell_type": "code",
   "execution_count": 60,
   "metadata": {},
   "outputs": [
    {
     "data": {
      "image/png": "[encoded data removed]",
      "text/plain": [
       "<Figure size 864x288 with 1 Axes>"
      ]
     },
     "metadata": {},
     "output_type": "display_data"
    },
    {
     "data": {
      "image/png": "[encoded data removed]",
      "text/plain": [
       "<Figure size 864x288 with 1 Axes>"
      ]
     },
     "metadata": {},
     "output_type": "display_data"
    }
   ],
   "source": [
    "EXPERIMENT_NUM = 3\n",
    "SIZES = range(100, 10000, 50)\n",
    "\n",
    "from collections import deque\n",
    "import time\n",
    "import sys\n",
    "import matplotlib.pyplot as plt\n",
    "%matplotlib inline\n",
    "\n",
    "class TimeMemoryExperiment:\n",
    "    def __init__(self, structure):\n",
    "        self.structure = structure\n",
    "        self.logs = {'time': [], 'memory': []}\n",
    "        \n",
    "    def run_experiment(self, experiment_num, sizes):\n",
    "        for size in sizes:\n",
    "            experiments = []\n",
    "            for _ in range(experiment_num):\n",
    "                struct = self.structure()\n",
    "                start = time.time()\n",
    "                for i in range(size):\n",
    "                    middle = i // 2\n",
    "                    struct.insert(i % 5, middle)\n",
    "                experiments.append(time.time()- start)\n",
    "            self.logs['time'].append(sum(experiments) / experiment_num)\n",
    "            self.logs['memory'].append(sys.getsizeof(struct))\n",
    "\n",
    "\n",
    "list_experiment = TimeMemoryExperiment(list)\n",
    "list_experiment.run_experiment(EXPERIMENT_NUM, SIZES)\n",
    "deque_experiment = TimeMemoryExperiment(deque)\n",
    "deque_experiment.run_experiment(EXPERIMENT_NUM, SIZES)\n",
    "\n",
    "for param in list_experiment.logs.keys():\n",
    "    plt.figure(figsize=(12,4))\n",
    "    plt.plot(SIZES, list_experiment.logs[param], label='list')\n",
    "    plt.plot(SIZES, deque_experiment.logs[param], label='deque')\n",
    "    plt.xlabel('number of elements')\n",
    "    plt.ylabel(param);\n",
    "    plt.legend();\n"
   ]
  },
  {
   "cell_type": "markdown",
   "metadata": {},
   "source": [
    "## Домашнее задание №4 [0 - 0.1 балла]\n",
    "\n",
    "**Условие:**\n",
    "    \n",
    "Написать аналог permutations и провести сравнение скорости работы и потребления памяти.\n",
    "\n",
    "**Комментарий:**\n",
    "\n",
    "Количесвто баллов зависит от полноты сравнения."
   ]
  },
  {
   "cell_type": "code",
   "execution_count": 95,
   "metadata": {},
   "outputs": [],
   "source": [
    "from itertools import permutations\n",
    "\n",
    "def get_permutations(sequence, size=None):\n",
    "    \"\"\"\n",
    "        This function generates all permutations of elements from sequence.\n",
    "        \n",
    "        :param sequence: elements to permute\n",
    "        :type sequence: str\n",
    "        :param size: size of the permutation\n",
    "        :type size: int\n",
    "        \n",
    "        :returns: permutations\n",
    "        :rtype: int\n",
    "    \"\"\"\n",
    "    if type(sequence) != str:\n",
    "        raise TypeError(\"sequence should be a string\")\n",
    "    if size is None:\n",
    "        size = len(sequence)\n",
    "    if size > len(sequence):\n",
    "        raise ValueError(\"parameter size should be less or equal to sequence length\")\n",
    "    if type(size) != int or size <= 0:\n",
    "        raise TypeError(\"parameter size should be positive integer\")\n",
    "    permuts = get_all_permutations(sequence)\n",
    "    if size == len(sequence):\n",
    "        return sequence\n",
    "    else:\n",
    "        return set([tuple(perm[:size]) for perm in permuts])\n",
    "\n",
    "def get_all_permutations(sequence):\n",
    "    \"\"\"\n",
    "        This function generates all permutations of elements from sequence.\n",
    "        \n",
    "        :param sequence: elements to permute\n",
    "        :type sequence: str\n",
    "        \n",
    "        :returns: permutations\n",
    "        :rtype: int\n",
    "    \"\"\"\n",
    "    permuts = []\n",
    "    if len(sequence) == 1:\n",
    "        permuts.append(sequence)\n",
    "    else:\n",
    "        for i in range(len(sequence)):\n",
    "            permuts.extend([seq+sequence[-1] for seq in get_all_permutations(sequence[:-1])])\n",
    "            sequence = sequence[-1]+sequence[:-1]\n",
    "    return permuts\n",
    "\n",
    "def std_permutations(*args):\n",
    "    return [_ for _ in permutations(*args)]"
   ]
  },
  {
   "cell_type": "code",
   "execution_count": 96,
   "metadata": {},
   "outputs": [],
   "source": [
    "import string\n",
    "from random import choices\n",
    "\n",
    "logs = {'custom': [], 'std': []}\n",
    "for len_seq in range(5, 11):\n",
    "    sequence = ''.join(choices(string.ascii_uppercase, k=len_seq))\n",
    "    start = time.time()\n",
    "    perm = get_permutations(sequence)\n",
    "    logs['custom'].append(time.time()-start)\n",
    "    \n",
    "    sequence = ''.join(choices(string.ascii_uppercase, k=len_seq))\n",
    "    start = time.time()\n",
    "    perm = std_permutations(sequence)\n",
    "    logs['std'].append(time.time()-start)"
   ]
  },
  {
   "cell_type": "code",
   "execution_count": 97,
   "metadata": {},
   "outputs": [
    {
     "data": {
      "image/png": "[encoded data removed]",
      "text/plain": [
       "<Figure size 720x288 with 1 Axes>"
      ]
     },
     "metadata": {},
     "output_type": "display_data"
    }
   ],
   "source": [
    "plt.figure(figsize=(10,4))\n",
    "plt.plot(range(5,11), logs['custom'], label='custom implementation')\n",
    "plt.plot(range(5,11), logs['std'], label='standard implementation')\n",
    "plt.xlabel('length of sequence')\n",
    "plt.ylabel('time')\n",
    "plt.legend();"
   ]
  },
  {
   "cell_type": "markdown",
   "metadata": {},
   "source": [
    " "
   ]
  }
 ],
 "metadata": {
  "kernelspec": {
   "display_name": "Python 3",
   "language": "python",
   "name": "python3"
  },
  "language_info": {
   "codemirror_mode": {
    "name": "ipython",
    "version": 3
   },
   "file_extension": ".py",
   "mimetype": "text/x-python",
   "name": "python",
   "nbconvert_exporter": "python",
   "pygments_lexer": "ipython3",
   "version": "3.6.5"
  }
 },
 "nbformat": 4,
 "nbformat_minor": 2
}
