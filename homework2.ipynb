{
 "cells": [
  {
   "cell_type": "markdown",
   "metadata": {},
   "source": [
    "# Домашнее задание №2 "
   ]
  },
  {
   "cell_type": "markdown",
   "metadata": {},
   "source": [
    "### Задача 0 [Библиотека] (0.15 балла)  \n",
    "\n",
    "**Условие:** \n",
    "\n",
    "\n",
    "В библиотеке хранятся книги и журналы. У каждой сущности есть общие характеристики, такие как: название, автор, жанр, число страниц, формат страниц, индекс редкости (от 1 до 10) и текст. Также у разных сущностей могут быть свои атрибуты. Хочется все редкие издания (индекс 9 или 10) дополнительно сохранять в некое хранилище (пусть json-файл), а также хочется понимать какую площадь занимает издание, если разложить все его страницы на полу.     \n",
    "\n",
    "\n",
    "**Комментарий:**\n",
    "\n",
    "Это задача с семинара на организацию иерархии классов. Идея в том, что нужно разделять сущности в зависимости от их применения. Например, есть книга как некий абстрактный объект, а есть библиотечная книга, у которой есть свои особенности. Также для сохранения книг в json нужно использвать классы-примеси.\n",
    "\n",
    "\n",
    "Иерархия классов:"
   ]
  },
  {
   "cell_type": "code",
   "execution_count": 1,
   "metadata": {},
   "outputs": [],
   "source": [
    "import datetime\n",
    "import re\n",
    "\n",
    "PAGES_FORMAT = {\n",
    "    'A1': (2048, 1024),\n",
    "    'A2': (1024, 512),\n",
    "    'A3': (512, 256),\n",
    "    'A4': (297, 210),\n",
    "}\n",
    "\n",
    "PERIODICITY = {\n",
    "    'weekly': 7,\n",
    "    'monthly': 30,\n",
    "    'yearly': 365\n",
    "}\n",
    "\n",
    "class ReadableEntity:\n",
    "    def __init__(self, title, author, genre, page_num, page_format, rarity_index, text):\n",
    "        self.title = title\n",
    "        self.author = author\n",
    "        self.genre = genre    \n",
    "        self.text = text\n",
    "        if type(page_num) == int and page_num > 0:\n",
    "            self.page_num = page_num\n",
    "        else:\n",
    "            raise ValueError(\"Number of pages should be positive integer\")\n",
    "        if page_format in PAGES_FORMAT.keys():\n",
    "            self.page_format = page_format\n",
    "        else:\n",
    "            raise ValueError(\"Non-standardized page format. Expected one of this: {}\".format(list(PAGES_FORMAT.keys())))\n",
    "        if type(rarity_index) == int and rarity_index >=1 and rarity_index <= 10:\n",
    "            self.rarity_index = rarity_index\n",
    "        else:\n",
    "            raise ValueError(\"Rarity index should be an integer from interval [1, 10]\")\n",
    "    \n",
    "    def __repr__(self):\n",
    "        return '{} \"{}\" ({}). R.I.{} - {} p.({})'.format(self.author, self.title, self.genre,\n",
    "                                                             self.rarity_index, self.page_num, self.page_format)\n",
    "    \n",
    "    @property\n",
    "    def pages_square(self):\n",
    "        height, width = PAGES_FORMAT[self.page_format]\n",
    "        return height*width*self.page_num\n",
    "        \n",
    "\n",
    "class Journal(ReadableEntity):\n",
    "    def __init__(self, title, author, genre, page_num, page_format, rarity_index, text, issue_date, first_issue_date,\n",
    "                 periodicity):\n",
    "        super().__init__(title, author, genre, page_num, page_format, rarity_index, text)\n",
    "        try:\n",
    "            self.issue_date = datetime.date(*[int(i) for i in issue_date.split('/')])\n",
    "        except Exception:\n",
    "            raise Exception(\"Issue date should string wuth format YYYY/MM/DD, got '{}'\".format(issue_date))\n",
    "        try:\n",
    "            self.first_issue_date = datetime.date(*[int(i) for i in first_issue_date.split('/')])\n",
    "        except Exception:\n",
    "            raise Exception(\"First issue date should string wuth format YYYY/MM/DD, got '{}'\".format(first_issue_date))\n",
    "        if self.first_issue_date > self.issue_date:\n",
    "            raise ValueError(\"First issue date should be less then issue date\")\n",
    "        if periodicity in PERIODICITY.keys():\n",
    "            self.periodicity = periodicity\n",
    "        else:\n",
    "            raise ValueError(\"Non-standardized periodicity. Expected one of this: {}\".format(list(PERIODICITY.keys())))\n",
    "    \n",
    "    def __repr__(self):\n",
    "        return '{} \"{}\" ({}) - {}. Vol.{} No.{}. R.I.{} - {} p.({})'.format(\n",
    "            self.author, self.title, self.genre, self.issue_date.year, self.issue_volume, self.issue_num,\n",
    "            self.rarity_index, self.page_num, self.page_format\n",
    "        )\n",
    "    \n",
    "    @property\n",
    "    def issue_num(self):\n",
    "        if self.issue_date == self.first_issue_date.year:\n",
    "            first_date = self.first_issue_date\n",
    "        else:\n",
    "            first_date = datetime.date(self.issue_date.year, 1, 1)\n",
    "        delta = (self.issue_date - first_date).days\n",
    "        return delta // PERIODICITY[self.periodicity] + 1\n",
    "    \n",
    "    @property\n",
    "    def issue_volume(self):\n",
    "        first_date = datetime.date(self.first_issue_date.year+1, 1, 1)\n",
    "        delta = (self.issue_date - first_date).days\n",
    "        return delta // 365 + 2\n",
    "\n",
    "\n",
    "class Book(ReadableEntity):\n",
    "    def __init__(self, title, author, genre, page_num, page_format, rarity_index, text, edition_num, publication_year):\n",
    "        super().__init__(title, author, genre, page_num, page_format, rarity_index, text)\n",
    "        if type(edition_num) == int and edition_num > 0:\n",
    "            self.edition_num = edition_num\n",
    "        else:\n",
    "            raise ValueError(\"Edition number should be positive integer\")\n",
    "        if type(publication_year) == int and publication_year > 0:\n",
    "            self.publication_year = publication_year\n",
    "        else:\n",
    "            raise ValueError(\"Publication year should be positive integer\")\n",
    "    \n",
    "    def __repr__(self):\n",
    "        return '{} \"{}\" ({}). - {} edition, {}. R.I.{} - {} p.({})'.format(self.author, self.title, self.genre,\n",
    "                self.edition_num, self.publication_year, self.rarity_index, self.page_num, self.page_format)\n",
    "\n",
    "class Exporter:\n",
    "    def __init__(self, title, rarity_index):\n",
    "        if rarity_index in [9, 10]:\n",
    "            storage_path = re.sub(' ', '_', title.lower())\n",
    "            storage_path = re.sub('\\W_', '', storage_path)\n",
    "            self.export_to_storage(storage_path[:max(20, len(storage_path))]+'.json')\n",
    "            \n",
    "    def export_to_storage(self, storage_path):\n",
    "        with open(storage_path, 'w') as storage:\n",
    "            for key in self.__dict__:\n",
    "                storage.write(\"{}: {}\\n\".format(key, self.__dict__[key]))\n",
    "    \n",
    "class LibraryJournal(Journal, Exporter):\n",
    "    def __init__(self, title, author, genre, page_num, page_format, rarity_index, text, issue_date, first_issue_date,\n",
    "                 periodicity):\n",
    "        Journal.__init__(self, title, author, genre, page_num, page_format, rarity_index, text, issue_date, first_issue_date,\n",
    "                 periodicity)\n",
    "        Exporter.__init__(self, title, rarity_index)\n",
    "        self.is_taken = False\n",
    "        \n",
    "    def take_from_library(self):\n",
    "        if self.is_taken:\n",
    "            raise ValueError(\"Exemplar of journal {} No.{} is aready taken from library\".format(self.title, self.issue_num))\n",
    "        else:\n",
    "            self.is_taken = True\n",
    "        \n",
    "    def return_to_library(self):\n",
    "        if self.is_taken:\n",
    "            self.is_taken = False\n",
    "            print(\"You've taken exemplar of journal {} No.{}\".format(self.title, self.issue_num))\n",
    "        else:\n",
    "            raise ValueError(\"This exemplar of journal {} No.{} is not from the library\".format(self.title, self.issue_num))\n",
    "\n",
    "class LibraryBook(Book, Exporter):\n",
    "    def __init__(self, title, author, genre, page_num, page_format, rarity_index, text, edition_num, publication_year,\n",
    "                 num_copies):\n",
    "        Book.__init__(self, title, author, genre, page_num, page_format, rarity_index, text, edition_num, publication_year)\n",
    "        Exporter.__init__(self, title, rarity_index)\n",
    "        if type(num_copies) == int and num_copies > 0:\n",
    "            self.current_num_copies = num_copies\n",
    "            self.total_num_copies = num_copies\n",
    "        else:\n",
    "            raise ValueError(\"Number of pages should be positive integer\")\n",
    "        \n",
    "    def take_from_library(self):\n",
    "        if self.current_num_copies > 0:\n",
    "            self.current_num_copies -= 1\n",
    "            print(\"You've taken exemplar of {}\".format(self.title))\n",
    "        else:\n",
    "            raise ValueError(\"All exemplar of {} are already taken from library\".format(self.title))\n",
    "    \n",
    "    def return_to_library(self):\n",
    "        if self.current_num_copies < self.total_num_copies:\n",
    "            self.current_num_copies += 1\n",
    "        else:\n",
    "            raise ValueError(\"This exemplar of {} is not from the library\".format(self.title))"
   ]
  },
  {
   "cell_type": "code",
   "execution_count": 2,
   "metadata": {},
   "outputs": [
    {
     "data": {
      "text/plain": [
       "T.Cormen \"Introduction to algorithms\" (science). - 3 edition, 2011. R.I.6 - 1312 p.(A4)"
      ]
     },
     "execution_count": 2,
     "metadata": {},
     "output_type": "execute_result"
    }
   ],
   "source": [
    "lb1 = LibraryBook(\n",
    "    \"Introduction to algorithms\",\"T.Cormen\",\"science\", 1312, \"A4\", 6, edition_num=3, publication_year=2011, num_copies=2,\n",
    "    text=\"Chapter 1. The Role of Algorithms in Computing. \\nWhat are algorithms? Why is the study of algorithms worthwhile? What is the role of algorithms relative to other technologies used in computers? In this chapter, we will answer these questions.\"\n",
    ")\n",
    "lb1"
   ]
  },
  {
   "cell_type": "code",
   "execution_count": 3,
   "metadata": {},
   "outputs": [
    {
     "data": {
      "text/plain": [
       "H.G.Wells \"The Invisible Man\" (novel). - 1 edition, 1897. R.I.9 - 288 p.(A4)"
      ]
     },
     "execution_count": 3,
     "metadata": {},
     "output_type": "execute_result"
    }
   ],
   "source": [
    "lb2 = LibraryBook(\n",
    "    \"The Invisible Man\",\"H.G.Wells\", \"novel\", 288, \"A4\", 9,  edition_num=1, publication_year=1897, num_copies=1,\n",
    "    text=\"Chapter I. The Strange Man's arrival. \\nThe stranger came early in February, one wintry day, through a biting wind and a driving snow, the last snowfall of the year, over the down, walking as it seemed from Bramblehurst railway station, and carrying a little black portmanteau in his thickly gloved hand.\",\n",
    ")\n",
    "lb2"
   ]
  },
  {
   "cell_type": "code",
   "execution_count": 5,
   "metadata": {},
   "outputs": [
    {
     "data": {
      "text/plain": [
       "Frank Tian Xie \"International Journal of Business and Social Science\" (business) - 2016. Vol.7 No.5. R.I.4 - 37 p.(A3)"
      ]
     },
     "execution_count": 5,
     "metadata": {},
     "output_type": "execute_result"
    }
   ],
   "source": [
    "lj1 = LibraryJournal(\"International Journal of Business and Social Science\",\"Frank Tian Xie\",\"business\", 37, \"A3\", 4,\n",
    "                     issue_date=\"2016/05/01\", first_issue_date=\"2010/10/01\", periodicity=\"monthly\",\n",
    "                     text=\"Article 1\\nArticle 2\\nArticle 3\\nArticle 4\")\n",
    "lj1"
   ]
  },
  {
   "cell_type": "code",
   "execution_count": 6,
   "metadata": {},
   "outputs": [
    {
     "name": "stdout",
     "output_type": "stream",
     "text": [
      "You've taken exemplar of The Invisible Man\n"
     ]
    },
    {
     "ename": "ValueError",
     "evalue": "All exemplar of The Invisible Man are already taken from library",
     "output_type": "error",
     "traceback": [
      "\u001b[1;31m---------------------------------------------------------------------------\u001b[0m",
      "\u001b[1;31mValueError\u001b[0m                                Traceback (most recent call last)",
      "\u001b[1;32m<ipython-input-6-8b680e92f479>\u001b[0m in \u001b[0;36m<module>\u001b[1;34m()\u001b[0m\n\u001b[0;32m      1\u001b[0m \u001b[0mlb2\u001b[0m\u001b[1;33m.\u001b[0m\u001b[0mtake_from_library\u001b[0m\u001b[1;33m(\u001b[0m\u001b[1;33m)\u001b[0m\u001b[1;33m\u001b[0m\u001b[0m\n\u001b[1;32m----> 2\u001b[1;33m \u001b[0mlb2\u001b[0m\u001b[1;33m.\u001b[0m\u001b[0mtake_from_library\u001b[0m\u001b[1;33m(\u001b[0m\u001b[1;33m)\u001b[0m\u001b[1;33m\u001b[0m\u001b[0m\n\u001b[0m",
      "\u001b[1;32m<ipython-input-1-d42ebc29c1e9>\u001b[0m in \u001b[0;36mtake_from_library\u001b[1;34m(self)\u001b[0m\n\u001b[0;32m    150\u001b[0m             \u001b[0mprint\u001b[0m\u001b[1;33m(\u001b[0m\u001b[1;34m\"You've taken exemplar of {}\"\u001b[0m\u001b[1;33m.\u001b[0m\u001b[0mformat\u001b[0m\u001b[1;33m(\u001b[0m\u001b[0mself\u001b[0m\u001b[1;33m.\u001b[0m\u001b[0mtitle\u001b[0m\u001b[1;33m)\u001b[0m\u001b[1;33m)\u001b[0m\u001b[1;33m\u001b[0m\u001b[0m\n\u001b[0;32m    151\u001b[0m         \u001b[1;32melse\u001b[0m\u001b[1;33m:\u001b[0m\u001b[1;33m\u001b[0m\u001b[0m\n\u001b[1;32m--> 152\u001b[1;33m             \u001b[1;32mraise\u001b[0m \u001b[0mValueError\u001b[0m\u001b[1;33m(\u001b[0m\u001b[1;34m\"All exemplar of {} are already taken from library\"\u001b[0m\u001b[1;33m.\u001b[0m\u001b[0mformat\u001b[0m\u001b[1;33m(\u001b[0m\u001b[0mself\u001b[0m\u001b[1;33m.\u001b[0m\u001b[0mtitle\u001b[0m\u001b[1;33m)\u001b[0m\u001b[1;33m)\u001b[0m\u001b[1;33m\u001b[0m\u001b[0m\n\u001b[0m\u001b[0;32m    153\u001b[0m \u001b[1;33m\u001b[0m\u001b[0m\n\u001b[0;32m    154\u001b[0m     \u001b[1;32mdef\u001b[0m \u001b[0mreturn_to_library\u001b[0m\u001b[1;33m(\u001b[0m\u001b[0mself\u001b[0m\u001b[1;33m)\u001b[0m\u001b[1;33m:\u001b[0m\u001b[1;33m\u001b[0m\u001b[0m\n",
      "\u001b[1;31mValueError\u001b[0m: All exemplar of The Invisible Man are already taken from library"
     ]
    }
   ],
   "source": [
    "lb2.take_from_library()\n",
    "lb2.take_from_library()"
   ]
  },
  {
   "cell_type": "code",
   "execution_count": 7,
   "metadata": {},
   "outputs": [
    {
     "name": "stdout",
     "output_type": "stream",
     "text": [
      "You've taken exemplar of The Invisible Man\n"
     ]
    }
   ],
   "source": [
    "lb2.return_to_library()\n",
    "lb2.take_from_library()"
   ]
  },
  {
   "cell_type": "code",
   "execution_count": 8,
   "metadata": {},
   "outputs": [
    {
     "data": {
      "text/plain": [
       "17962560"
      ]
     },
     "execution_count": 8,
     "metadata": {},
     "output_type": "execute_result"
    }
   ],
   "source": [
    "lb2.pages_square"
   ]
  },
  {
   "cell_type": "markdown",
   "metadata": {},
   "source": [
    "### Задача 1 [Размер объектов] (0 - 0.15 балла)  \n",
    "\n",
    "**Условие:** \n",
    "\n",
    "Написать функцию получения реального объема занимаемой объектом памяти объектом. \n",
    "\n",
    "\n",
    "1) Для int, str, list, tuple, dict **(0.05 балла)**\n",
    "\n",
    "2) Для всех типов **(+0.1 балла)**\n",
    "\n",
    "\n",
    "**Комментарий:**\n",
    "\n",
    "На занятиях не раз говорилось, что `sys.getsizeof` умеет находить размер простых объектов, но если речь идет об объектах, вроде list, то функция вернет не совсем то, что может ожидать разработчик, потому что список хранит указатели на объекты. \n",
    "\n",
    "*Пример:*\n",
    "```\n",
    "sys.getsizeof([]) == 64\n",
    "sys.getsizeof(['aaaaaaa']) == 72\n",
    "```\n",
    "Но\n",
    "```\n",
    "sys.getsizeof('aaaaaaa') == 56\n",
    "```\n"
   ]
  },
  {
   "cell_type": "code",
   "execution_count": 9,
   "metadata": {},
   "outputs": [],
   "source": [
    "import sys\n",
    "\n",
    "def get_real_sizeof(obj, checked_objects=None):\n",
    "    if checked_objects is None:\n",
    "        checked_objects = []\n",
    "    size = 0\n",
    "    if id(obj) not in checked_objects:\n",
    "        checked_objects.append(id(obj))\n",
    "        if type(obj) == dict:\n",
    "            size += sys.getsizeof(dict())\n",
    "            for key, value in obj.items():\n",
    "                size += get_real_sizeof(key, checked_objects)\n",
    "                size += get_real_sizeof(value, checked_objects)\n",
    "        elif hasattr(obj, '__iter__'):\n",
    "            if type(obj) in [list, tuple, str]:\n",
    "                size += sys.getsizeof(type(obj)())\n",
    "            else:\n",
    "                size += sys.getsizeof(obj)\n",
    "            for subobj in obj.__iter__():\n",
    "                size += get_real_sizeof(subobj, checked_objects)\n",
    "        elif hasattr(obj, '__dict__'):\n",
    "            size += get_real_sizeof(obj.__dict__, checked_objects)\n",
    "        else:\n",
    "            size += sys.getsizeof(obj)\n",
    "    return size"
   ]
  },
  {
   "cell_type": "code",
   "execution_count": 12,
   "metadata": {},
   "outputs": [
    {
     "name": "stdout",
     "output_type": "stream",
     "text": [
      "Object: aaaaaaaaaaa (type=<class 'str'>)\n",
      "sys.getsizeof: 60, real size: 98\n",
      "\n",
      "Object: ['aaaaaaaaaaa'] (type=<class 'list'>)\n",
      "sys.getsizeof: 72, real size: 162\n",
      "\n",
      "Object: bytearray(b'\\x00\\x00\\x00\\x00\\x00\\x00\\x00\\x00\\x00\\x00\\x00\\x00') (type=<class 'bytearray'>)\n",
      "sys.getsizeof: 69, real size: 93\n",
      "\n",
      "Object: (1+3j) (type=<class 'complex'>)\n",
      "sys.getsizeof: 32, real size: 32\n",
      "\n",
      "Object: 670 (type=<class 'int'>)\n",
      "sys.getsizeof: 28, real size: 28\n",
      "\n",
      "Object: -1111111111111111 (type=<class 'int'>)\n",
      "sys.getsizeof: 32, real size: 32\n",
      "\n",
      "Object: (1, 2, 3, 4) (type=<class 'tuple'>)\n",
      "sys.getsizeof: 80, real size: 160\n",
      "\n",
      "Object: {'a': 0, 'b': 1, 'c': -1} (type=<class 'dict'>)\n",
      "sys.getsizeof: 240, real size: 467\n",
      "\n",
      "Object: 5*x^4 + 4*x^3 + 3*x^2 + 2*x + 1 (type=<class '__main__.Polynom'>)\n",
      "sys.getsizeof: 56, real size: 885\n",
      "\n",
      "Object: <class 'int'> (type=<class 'type'>)\n",
      "sys.getsizeof: 400, real size: 4311\n",
      "\n"
     ]
    }
   ],
   "source": [
    "for obj in ['aaaaaaaaaaa', ['aaaaaaaaaaa'], bytearray(12), complex(1, 3), 670, -1111111111111111,\n",
    "            (1,2,3,4), {'a': 0, 'b': 1, 'c': -1}, Polynom([1,2,3,4,5]), int]:\n",
    "    print('Object: {} (type={})\\nsys.getsizeof: {}, real size: {}\\n'.format(obj, type(obj),\n",
    "                                                                       sys.getsizeof(obj), get_real_sizeof(obj)))"
   ]
  },
  {
   "cell_type": "markdown",
   "metadata": {},
   "source": [
    "### Задача 2 [Многочлены] (0.64 балла)\n",
    "\n",
    "**Условие:**\n",
    "\n",
    "Реализовать класс многочлена. Определить операции:\n",
    "\n",
    "1) *сложения* - **(0.02 балла)**\n",
    "\n",
    "2) *вычитания* - **(0.02 балла)**\n",
    "\n",
    "3) *умножения* - **(0.04 балла)**\n",
    "\n",
    "3a) *быстрого умножения* (алгоритм Карацубы или быстрое преобразование Фурье) - **(+0.25 балла)**\n",
    "\n",
    "4) *деления* - **(0.05 балла)**\n",
    "\n",
    "5) *возведения в степень* - **(0.02 балла)** | *возведения в степень* через быстрое возведение в степень за log - **(0.04 балла)**\n",
    "\n",
    "6) *представления многочлена в человеческом виде* - **(0.02 балла)**\n",
    "\n",
    "7) *дифференцирования* - **(0.05 балла)**\n",
    "\n",
    "8) *интегрирования* - **(0.05 балла)**\n",
    "\n",
    "9) Вызова многочлена как функции (вычисление значения в точке) - **(0.03 балла)**\n",
    "\n",
    "**Комментарии:**\n",
    "\n",
    "Для комплексных коэффициентов **(0.01 балла)** к каждому пункту.\n",
    "\n",
    "Операции с числами также должны работать."
   ]
  },
  {
   "cell_type": "code",
   "execution_count": 13,
   "metadata": {},
   "outputs": [],
   "source": [
    "from copy import copy\n",
    "\n",
    "SIGN = {True: \"+\", False: \"-\"}\n",
    "\n",
    "class Polynom:\n",
    "    \n",
    "    def __init__(self, coefficients):\n",
    "        self.coefficients = self.__convert_coefficients(coefficients)\n",
    "    \n",
    "    @staticmethod\n",
    "    def __convert_coefficients(coefficients):\n",
    "        if type(coefficients) not in [list, tuple, int, float, complex]:\n",
    "            raise TypeError(\"Coefficients should be of type list, tuple, int, float or complex\")\n",
    "        if type(coefficients) in [int, float, complex]:\n",
    "            coefficients = [coefficients]    \n",
    "        return coefficients  \n",
    "    \n",
    "    def __check_degrees(self, other):\n",
    "        self_coefficients = copy(self.coefficients)\n",
    "        if type(other) == type(self):\n",
    "            other_coefficients = copy(other.coefficients)\n",
    "        else:\n",
    "            other_coefficients = self.__convert_coefficients(other)\n",
    "        \n",
    "        swap_flag = False\n",
    "        if len(self_coefficients) < len(other_coefficients):\n",
    "            swap_flag = True\n",
    "            self_coefficients, other_coefficients = other_coefficients, self_coefficients\n",
    "        return self_coefficients, other_coefficients, swap_flag\n",
    "    \n",
    "    # 1. сложение\n",
    "    def __add__(self, other):\n",
    "        result_coefficients, other_coefficients, _ = self.__check_degrees(other)\n",
    "        for degree in range(len(other_coefficients)):\n",
    "            result_coefficients[degree] += other_coefficients[degree]\n",
    "        \n",
    "        return Polynom(result_coefficients)\n",
    "    \n",
    "    # 2. вычитание\n",
    "    def __sub__(self, other):\n",
    "        result_coefficients, other_coefficients, swap_flag = self.__check_degrees(other)\n",
    "        if swap_flag:\n",
    "            for degree in range(len(other_coefficients)):\n",
    "                    result_coefficients[degree] = other_coefficients[degree] - result_coefficients[degree]\n",
    "            for last_degree in range(degree+1, len(result_coefficients)):\n",
    "                result_coefficients[last_degree] = -result_coefficients[last_degree]\n",
    "        else:\n",
    "            for degree in range(len(other_coefficients)):\n",
    "                result_coefficients[degree] -= other_coefficients[degree]\n",
    "                \n",
    "        return Polynom(result_coefficients)\n",
    "    \n",
    "    # 3. умножение\n",
    "    def __mul__(self, other):\n",
    "        self_coefficients, other_coefficients, _ = self.__check_degrees(other)\n",
    "        result_coefficients = [0]*(len(self_coefficients)+len(other_coefficients))\n",
    "        for degree_i, coef_i in enumerate(self_coefficients):\n",
    "            for degree_j, coef_j in enumerate(other_coefficients):\n",
    "                result_coefficients[degree_i+degree_j] += (coef_i*coef_j)\n",
    "        return Polynom(result_coefficients)\n",
    "    \n",
    "    # 3a. умножение Карацубы\n",
    "    def karatsuba_multiply(self, other):\n",
    "        pass\n",
    "    \n",
    "    # 4. деление\n",
    "    def __truediv__(self, other):\n",
    "        self_coefficients, divider_coefficients, swap_flag = self.__check_degrees(other)\n",
    "        if swap_flag:\n",
    "            quotient_coefficients = 0\n",
    "            remainder_coefficients = divider_coefficients\n",
    "        else:\n",
    "            quotient_coefficients = []\n",
    "            dividend_coefficients = self_coefficients[-len(divider_coefficients)+1:]\n",
    "            for step in range(len(self_coefficients)-len(divider_coefficients)+1):\n",
    "                remainder_coefficients = []\n",
    "                dividend_coefficients.insert(0, self_coefficients[-len(divider_coefficients)-step])\n",
    "                coef = dividend_coefficients[-1] / divider_coefficients[-1]\n",
    "                quotient_coefficients.insert(0, coef)\n",
    "                for degree in range(len(divider_coefficients)-1):\n",
    "                    remainder_coefficients.append(dividend_coefficients[degree] - divider_coefficients[degree]*coef)\n",
    "                dividend_coefficients = remainder_coefficients\n",
    "        return Polynom(quotient_coefficients), Polynom(remainder_coefficients)               \n",
    "\n",
    "    # 5. быстрое возведение в степень\n",
    "    def __pow__(self, n):\n",
    "        powers = bin(n)[2:]\n",
    "        result = copy(self)\n",
    "        for i in range(1, len(powers)):\n",
    "            if powers[i] == '0':\n",
    "                result = result*result\n",
    "            else:\n",
    "                result = self*(result*result)\n",
    "        return result\n",
    "    \n",
    "    # 6. представление многочлена в человеческом виде\n",
    "    def __repr__(self):\n",
    "        polynom_str = \"\"\n",
    "        for degree, coef in enumerate(self.coefficients):\n",
    "            element_str = \"\"\n",
    "            if degree != 0:\n",
    "                element_str = \"x\"\n",
    "                if degree != 1:\n",
    "                    element_str += \"^{}\".format(degree)\n",
    "                if type(coef) == complex:\n",
    "                    element_str = \" + {}*\".format(coef) + element_str\n",
    "                elif coef == 0:\n",
    "                    if len(self.coefficients) == 1:\n",
    "                        element_str = \" + 0\"\n",
    "                    else:\n",
    "                        element_str = \"\"\n",
    "                elif abs(coef) != 1:\n",
    "                    element_str = \" {} {}*\".format(SIGN[coef > 0], round(abs(coef),3)) + element_str\n",
    "                elif abs(coef) == 1:\n",
    "                    element_str = \" {} \".format(SIGN[coef > 0]) + element_str\n",
    "            else:\n",
    "                if type(coef) == complex:\n",
    "                    element_str = \" + {}\".format(coef)\n",
    "                elif coef == 0 and len(self.coefficients) == 1: \n",
    "                    element_str = \" + 0\"\n",
    "                elif coef != 0:\n",
    "                    element_str = \" {} {}\".format(SIGN[coef > 0], round(abs(coef),3)) + element_str\n",
    "            polynom_str = element_str + polynom_str \n",
    "        return polynom_str.lstrip('+ ').rstrip('*')\n",
    "    \n",
    "    # 7. дифференцирование\n",
    "    def differentiate(self):\n",
    "        result_coefficients = []\n",
    "        for degree in range(1, len(self.coefficients)):\n",
    "            result_coefficients.append(self.coefficients[degree]*degree)\n",
    "        return Polynom(result_coefficients)\n",
    "    \n",
    "    # 8. интегрирование\n",
    "    def integrate(self, const=0):\n",
    "        result_coefficients = [const]\n",
    "        for degree in range(len(self.coefficients)):\n",
    "            result_coefficients.append(self.coefficients[degree]/(degree+1))\n",
    "        return Polynom(result_coefficients)\n",
    "    \n",
    "    # 9. вычисление значения в точке\n",
    "    def __call__(self, x):\n",
    "        result = 0\n",
    "        for degree, coef in enumerate(self.coefficients):\n",
    "            result += (coef*(x**degree))\n",
    "        return result\n"
   ]
  },
  {
   "cell_type": "code",
   "execution_count": 14,
   "metadata": {},
   "outputs": [
    {
     "name": "stdout",
     "output_type": "stream",
     "text": [
      "Real:\n",
      "a = x^5 + 3*x^3 - 2*x^2 + 8*x + 1\n",
      "b = x^2 + x - 2\n",
      "c = - 5*x^3 + x^2 + 2*x\n",
      "\n",
      "Complex:\n",
      "d = 5*x^4 + 4j*x^3 + (3-1j)*x^2 - 2*x + (1+3j)\n",
      "e = 2*x + (-4-5j)\n"
     ]
    }
   ],
   "source": [
    "print('Real:')\n",
    "a = Polynom([1,8,-2,3,0,1])\n",
    "print('a =', a)\n",
    "\n",
    "b = Polynom([-2,1,1])\n",
    "print('b =', b)\n",
    "\n",
    "c = Polynom([0, 2, 1, -5])\n",
    "print('c =', c)\n",
    "\n",
    "print('\\nComplex:')\n",
    "d = Polynom([1+3j, -2, 3-1j, 4j, 5])\n",
    "print('d =', d)\n",
    "\n",
    "e = Polynom([-4-5j, 2])\n",
    "print('e =', e)"
   ]
  },
  {
   "cell_type": "code",
   "execution_count": 15,
   "metadata": {},
   "outputs": [
    {
     "name": "stdout",
     "output_type": "stream",
     "text": [
      "Real:\n",
      "a + b = x^5 + 3*x^3 - x^2 + 9*x - 1\n",
      "b + 4 = x^2 + x + 2\n",
      "\n",
      "Complex:\n",
      "c + d = 5*x^4 + (-5+4j)*x^3 + (4-1j)*x^2 + (1+3j)\n",
      "d + 9 = 5*x^4 + 4j*x^3 + (3-1j)*x^2 - 2*x + (10+3j)\n"
     ]
    }
   ],
   "source": [
    "# 1. сложение\n",
    "print('Real:')\n",
    "print('a + b =', a + b)\n",
    "print('b + 4 =', b + 4)\n",
    "print('\\nComplex:')\n",
    "print('c + d =', c + d)\n",
    "print('d + 9 =', d + 9)"
   ]
  },
  {
   "cell_type": "code",
   "execution_count": 16,
   "metadata": {},
   "outputs": [
    {
     "name": "stdout",
     "output_type": "stream",
     "text": [
      "Real:\n",
      "a - b = x^5 + 3*x^3 - 3*x^2 + 7*x + 3\n",
      "b - c = 5*x^3 - x - 2\n",
      "\n",
      "Complex:\n",
      "d - e = 5*x^4 + 4j*x^3 + (3-1j)*x^2 - 4*x + (5+8j)\n"
     ]
    }
   ],
   "source": [
    "# 2. вычитание\n",
    "print('Real:')\n",
    "print('a - b =', a - b)\n",
    "print('b - c =', b - c)\n",
    "print('\\nComplex:')\n",
    "print('d - e =', d - e)"
   ]
  },
  {
   "cell_type": "code",
   "execution_count": 17,
   "metadata": {},
   "outputs": [
    {
     "name": "stdout",
     "output_type": "stream",
     "text": [
      "Real:\n",
      "a * b = x^7 + x^6 + x^5 + x^4 + 13*x^2 - 15*x - 2\n",
      "\n",
      "Complex:\n",
      "d * e = 10*x^5 + (-20-17j)*x^4 + (26-18j)*x^3 + (-21-11j)*x^2 + (10+16j)*x + (11-17j)\n"
     ]
    }
   ],
   "source": [
    "# 3. умножение\n",
    "print('Real:')\n",
    "print('a * b =', a * b)\n",
    "print('\\nComplex:')\n",
    "print('d * e =', d * e)"
   ]
  },
  {
   "cell_type": "code",
   "execution_count": 18,
   "metadata": {},
   "outputs": [
    {
     "name": "stdout",
     "output_type": "stream",
     "text": [
      "Real:\n",
      "a / b = (x^3 - x^2 + 6.0*x - 10.0, 30.0*x - 19.0)\n",
      "b / c = (0, x^2 + x - 2)\n",
      "\n",
      "Complex:\n",
      "d / e = (2.5*x^3 + (5+8.25j)*x^2 + (-9.125+28.5j)*x + (-90.5+34.1875j), (-531.9375-312.75j))\n"
     ]
    }
   ],
   "source": [
    "# 4. деление\n",
    "print('Real:')\n",
    "print('a / b = {}'.format(a / b))\n",
    "print('b / c = {}'.format(b / c))\n",
    "print('\\nComplex:')\n",
    "print('d / e = {}'.format(d / e))"
   ]
  },
  {
   "cell_type": "code",
   "execution_count": 19,
   "metadata": {},
   "outputs": [
    {
     "name": "stdout",
     "output_type": "stream",
     "text": [
      "Real:\n",
      "c^4 = 625*x^12 - 500*x^11 - 850*x^10 + 580*x^9 + 481*x^8 - 232*x^7 - 136*x^6 + 32*x^5 + 16*x^4\n",
      "\n",
      "Complex:\n",
      "e^4 = (16+0j)*x^4 + (-128-160j)*x^3 + (-216+960j)*x^2 + (1888-920j)*x + (-1519-720j)\n"
     ]
    }
   ],
   "source": [
    "# 5. быстрое возведение в степень\n",
    "print('Real:')\n",
    "print('c^4 = {}'.format(c**4))\n",
    "print('\\nComplex:')\n",
    "print('e^4 = {}'.format(e**4))"
   ]
  },
  {
   "cell_type": "code",
   "execution_count": 20,
   "metadata": {},
   "outputs": [
    {
     "name": "stdout",
     "output_type": "stream",
     "text": [
      "Real:\n",
      "dif(- 5*x^3 + x^2 + 2*x) = - 15*x^2 + 2*x + 2\n",
      "\n",
      "Complex:\n",
      "dif(5*x^4 + 4j*x^3 + (3-1j)*x^2 - 2*x + (1+3j)) = 20*x^3 + 12j*x^2 + (6-2j)*x - 2\n"
     ]
    }
   ],
   "source": [
    "# 7. дифференцирование\n",
    "print('Real:')\n",
    "print('dif({}) = {}'.format(c, c.differentiate()))\n",
    "print('\\nComplex:')\n",
    "print('dif({}) = {}'.format(d, d.differentiate()))"
   ]
  },
  {
   "cell_type": "code",
   "execution_count": 21,
   "metadata": {},
   "outputs": [
    {
     "name": "stdout",
     "output_type": "stream",
     "text": [
      "Real:\n",
      "integral(x^2 + x - 2) = 0.333*x^3 + 0.5*x^2 - 2.0*x + 1\n",
      "\n",
      "Complex:\n",
      "integral(2*x + (-4-5j)) = x^2 + (-4-5j)*x + 1\n"
     ]
    }
   ],
   "source": [
    "# 8. интегрирование\n",
    "print('Real:')\n",
    "print('integral({}) = {}'.format(b, b.integrate(const=1)))\n",
    "print('\\nComplex:')\n",
    "print('integral({}) = {}'.format(e, e.integrate(const=1)))"
   ]
  },
  {
   "cell_type": "code",
   "execution_count": 22,
   "metadata": {},
   "outputs": [
    {
     "name": "stdout",
     "output_type": "stream",
     "text": [
      "Real:\n",
      "a(-4) = -1279\n",
      "\n",
      "Complex:\n",
      "e(15) = (26-5j)\n"
     ]
    }
   ],
   "source": [
    "# 9. вычисление значения в точке\n",
    "print('Real:')\n",
    "print('a({}) = {}'.format(-4, a(-4)))\n",
    "print('\\nComplex:')\n",
    "print('e({}) = {}'.format(15, e(15)))"
   ]
  },
  {
   "cell_type": "markdown",
   "metadata": {},
   "source": [
    "### Задача 3 [Аналог range] (0.05 балла)\n",
    "\n",
    "**Условие:**\n",
    "\n",
    "Реализуйте итератор с поведением, аналогичным range."
   ]
  },
  {
   "cell_type": "code",
   "execution_count": 23,
   "metadata": {},
   "outputs": [],
   "source": [
    "class CustomRange:\n",
    "    def __init__(self, *args):\n",
    "        if len(args) == 1:\n",
    "            self.__check_int(*args)\n",
    "            self.start, self.stop, self.step = 0, args[0], 1\n",
    "        elif len(args) == 2:\n",
    "            self.__check_int(*args)\n",
    "            self.start, self.stop, self.step = args[0], args[1], 1\n",
    "        elif len(args) == 3:\n",
    "            self.__check_int(*args)\n",
    "            self.start, self.stop, self.step = args[0], args[1], args[2]\n",
    "            if self.step == 0:\n",
    "                raise ValueError(\"CustomRange() arg 'step' must be not 0\")\n",
    "        else:\n",
    "            raise TypeError(\"CustomRange() expected at most 3 arguments, got {}\".format(len(args)))\n",
    "        self.i = 0\n",
    "    \n",
    "    @staticmethod\n",
    "    def __check_int(*args):\n",
    "        for arg in args:\n",
    "            if type(arg) != int:\n",
    "                raise TypeError(\"{} object cannot be interpreted as an integer\".format(type(arg)))\n",
    "                \n",
    "    def __next__(self):\n",
    "        current = self.start + self.step*self.i\n",
    "        if self.step > 0:\n",
    "            continue_condition = self.i >= 0 and current < self.stop\n",
    "        else:\n",
    "            continue_condition = self.i >= 0 and current > self.stop\n",
    "        while continue_condition:\n",
    "            self.i += 1\n",
    "            return current\n",
    "        raise StopIteration\n",
    "    \n",
    "    def __iter__(self):\n",
    "        return self\n",
    "    \n",
    "    def __repr__(self):\n",
    "        if self.step == 1:\n",
    "            custom_range = \"CustomRange({}, {})\".format(self.start, self.stop)\n",
    "        else:\n",
    "            custom_range = \"CustomRange({}, {}, {})\".format(self.start, self.stop, self.step)\n",
    "        return custom_range"
   ]
  },
  {
   "cell_type": "code",
   "execution_count": 25,
   "metadata": {},
   "outputs": [
    {
     "name": "stdout",
     "output_type": "stream",
     "text": [
      "start=-2, stop=1, step=1\n",
      "CustomRange(-2, 1): [-2, -1, 0]\n",
      "range(-2, 1): [-2, -1, 0]\n",
      "\n",
      "start=2, stop=-4, step=-1\n",
      "CustomRange(2, -4, -1): [2, 1, 0, -1, -2, -3]\n",
      "range(2, -4, -1): [2, 1, 0, -1, -2, -3]\n",
      "\n",
      "start=2, stop=0, step=3\n",
      "CustomRange(2, 0, 3): []\n",
      "range(2, 0, 3): []\n",
      "\n"
     ]
    }
   ],
   "source": [
    "import random\n",
    "\n",
    "for i in range(3):\n",
    "    start, stop, step, sign = random.randint(-2, 3), random.randint(-8, 9), random.randint(1, 3), random.choice([-1,1])\n",
    "    print(\"start={}, stop={}, step={}\".format(start, stop, step*sign))\n",
    "    print(\"{}: {}\".format(CustomRange(start, stop, sign*step), list(CustomRange(start, stop, sign*step))))\n",
    "    print(\"{}: {}\".format(range(start, stop, sign*step), list(range(start, stop, sign*step))))\n",
    "    print()"
   ]
  },
  {
   "cell_type": "code",
   "execution_count": 26,
   "metadata": {},
   "outputs": [
    {
     "ename": "TypeError",
     "evalue": "CustomRange() expected at most 3 arguments, got 5",
     "output_type": "error",
     "traceback": [
      "\u001b[1;31m---------------------------------------------------------------------------\u001b[0m",
      "\u001b[1;31mTypeError\u001b[0m                                 Traceback (most recent call last)",
      "\u001b[1;32m<ipython-input-112-6a35a9805490>\u001b[0m in \u001b[0;36m<module>\u001b[1;34m()\u001b[0m\n\u001b[1;32m----> 1\u001b[1;33m \u001b[0mCustomRange\u001b[0m\u001b[1;33m(\u001b[0m\u001b[1;36m1\u001b[0m\u001b[1;33m,\u001b[0m\u001b[1;36m2\u001b[0m\u001b[1;33m,\u001b[0m\u001b[1;36m3\u001b[0m\u001b[1;33m,\u001b[0m\u001b[1;36m4\u001b[0m\u001b[1;33m,\u001b[0m\u001b[1;36m5\u001b[0m\u001b[1;33m)\u001b[0m\u001b[1;33m\u001b[0m\u001b[0m\n\u001b[0m",
      "\u001b[1;32m<ipython-input-85-f99f67f84f57>\u001b[0m in \u001b[0;36m__init__\u001b[1;34m(self, *args)\u001b[0m\n\u001b[0;32m     13\u001b[0m                 \u001b[1;32mraise\u001b[0m \u001b[0mValueError\u001b[0m\u001b[1;33m(\u001b[0m\u001b[1;34m\"CustomRange() arg 'step' must be not 0\"\u001b[0m\u001b[1;33m)\u001b[0m\u001b[1;33m\u001b[0m\u001b[0m\n\u001b[0;32m     14\u001b[0m         \u001b[1;32melse\u001b[0m\u001b[1;33m:\u001b[0m\u001b[1;33m\u001b[0m\u001b[0m\n\u001b[1;32m---> 15\u001b[1;33m             \u001b[1;32mraise\u001b[0m \u001b[0mTypeError\u001b[0m\u001b[1;33m(\u001b[0m\u001b[1;34m\"CustomRange() expected at most 3 arguments, got {}\"\u001b[0m\u001b[1;33m.\u001b[0m\u001b[0mformat\u001b[0m\u001b[1;33m(\u001b[0m\u001b[0mlen\u001b[0m\u001b[1;33m(\u001b[0m\u001b[0margs\u001b[0m\u001b[1;33m)\u001b[0m\u001b[1;33m)\u001b[0m\u001b[1;33m)\u001b[0m\u001b[1;33m\u001b[0m\u001b[0m\n\u001b[0m\u001b[0;32m     16\u001b[0m         \u001b[0mself\u001b[0m\u001b[1;33m.\u001b[0m\u001b[0mi\u001b[0m \u001b[1;33m=\u001b[0m \u001b[1;36m0\u001b[0m\u001b[1;33m\u001b[0m\u001b[0m\n\u001b[0;32m     17\u001b[0m \u001b[1;33m\u001b[0m\u001b[0m\n",
      "\u001b[1;31mTypeError\u001b[0m: CustomRange() expected at most 3 arguments, got 5"
     ]
    }
   ],
   "source": [
    "CustomRange(1,2,3,4,5)"
   ]
  },
  {
   "cell_type": "code",
   "execution_count": 27,
   "metadata": {},
   "outputs": [
    {
     "ename": "ValueError",
     "evalue": "CustomRange() arg 'step' must be not 0",
     "output_type": "error",
     "traceback": [
      "\u001b[1;31m---------------------------------------------------------------------------\u001b[0m",
      "\u001b[1;31mValueError\u001b[0m                                Traceback (most recent call last)",
      "\u001b[1;32m<ipython-input-113-cb5e869d8e96>\u001b[0m in \u001b[0;36m<module>\u001b[1;34m()\u001b[0m\n\u001b[1;32m----> 1\u001b[1;33m \u001b[0mCustomRange\u001b[0m\u001b[1;33m(\u001b[0m\u001b[1;36m1\u001b[0m\u001b[1;33m,\u001b[0m \u001b[1;36m2\u001b[0m\u001b[1;33m,\u001b[0m \u001b[1;36m0\u001b[0m\u001b[1;33m)\u001b[0m\u001b[1;33m\u001b[0m\u001b[0m\n\u001b[0m",
      "\u001b[1;32m<ipython-input-85-f99f67f84f57>\u001b[0m in \u001b[0;36m__init__\u001b[1;34m(self, *args)\u001b[0m\n\u001b[0;32m     11\u001b[0m             \u001b[0mself\u001b[0m\u001b[1;33m.\u001b[0m\u001b[0mstart\u001b[0m\u001b[1;33m,\u001b[0m \u001b[0mself\u001b[0m\u001b[1;33m.\u001b[0m\u001b[0mstop\u001b[0m\u001b[1;33m,\u001b[0m \u001b[0mself\u001b[0m\u001b[1;33m.\u001b[0m\u001b[0mstep\u001b[0m \u001b[1;33m=\u001b[0m \u001b[0margs\u001b[0m\u001b[1;33m[\u001b[0m\u001b[1;36m0\u001b[0m\u001b[1;33m]\u001b[0m\u001b[1;33m,\u001b[0m \u001b[0margs\u001b[0m\u001b[1;33m[\u001b[0m\u001b[1;36m1\u001b[0m\u001b[1;33m]\u001b[0m\u001b[1;33m,\u001b[0m \u001b[0margs\u001b[0m\u001b[1;33m[\u001b[0m\u001b[1;36m2\u001b[0m\u001b[1;33m]\u001b[0m\u001b[1;33m\u001b[0m\u001b[0m\n\u001b[0;32m     12\u001b[0m             \u001b[1;32mif\u001b[0m \u001b[0mself\u001b[0m\u001b[1;33m.\u001b[0m\u001b[0mstep\u001b[0m \u001b[1;33m==\u001b[0m \u001b[1;36m0\u001b[0m\u001b[1;33m:\u001b[0m\u001b[1;33m\u001b[0m\u001b[0m\n\u001b[1;32m---> 13\u001b[1;33m                 \u001b[1;32mraise\u001b[0m \u001b[0mValueError\u001b[0m\u001b[1;33m(\u001b[0m\u001b[1;34m\"CustomRange() arg 'step' must be not 0\"\u001b[0m\u001b[1;33m)\u001b[0m\u001b[1;33m\u001b[0m\u001b[0m\n\u001b[0m\u001b[0;32m     14\u001b[0m         \u001b[1;32melse\u001b[0m\u001b[1;33m:\u001b[0m\u001b[1;33m\u001b[0m\u001b[0m\n\u001b[0;32m     15\u001b[0m             \u001b[1;32mraise\u001b[0m \u001b[0mTypeError\u001b[0m\u001b[1;33m(\u001b[0m\u001b[1;34m\"CustomRange() expected at most 3 arguments, got {}\"\u001b[0m\u001b[1;33m.\u001b[0m\u001b[0mformat\u001b[0m\u001b[1;33m(\u001b[0m\u001b[0mlen\u001b[0m\u001b[1;33m(\u001b[0m\u001b[0margs\u001b[0m\u001b[1;33m)\u001b[0m\u001b[1;33m)\u001b[0m\u001b[1;33m)\u001b[0m\u001b[1;33m\u001b[0m\u001b[0m\n",
      "\u001b[1;31mValueError\u001b[0m: CustomRange() arg 'step' must be not 0"
     ]
    }
   ],
   "source": [
    "CustomRange(1, 2, 0)"
   ]
  },
  {
   "cell_type": "markdown",
   "metadata": {},
   "source": [
    "### Задача 4 [Primary Key] (0.05 балла)\n",
    "\n",
    "**Условие:**\n",
    "\n",
    "С помощью механизма дескрипторов реализуйте Primary Key - свойства первичного ключа из PostgreSQL."
   ]
  },
  {
   "cell_type": "code",
   "execution_count": 28,
   "metadata": {},
   "outputs": [],
   "source": [
    "class PrimaryKey:\n",
    "    def __init__(self):\n",
    "        self.existing_values = []\n",
    "        \n",
    "    def __set__(self, instance, value):\n",
    "        if value is None:\n",
    "            raise ValueError(\"Primary Key must be not null\") \n",
    "        elif value in self.existing_values:\n",
    "            raise ValueError(\"Primary Keys must be unique. Key '{}' already exists\".format(value))\n",
    "        self.existing_values.append(value)\n",
    "\n",
    "    def __get__(self, instance, owner=None):\n",
    "        return self.existing_values\n",
    "    \n",
    "class Table:\n",
    "    primary_key = PrimaryKey()\n",
    "    def __init__(self):\n",
    "        self.data = {}\n",
    "    \n",
    "    def insert_row(self, key, row):\n",
    "        self.primary_key = key\n",
    "        self.data[key] = row\n",
    "    \n",
    "    def delete_row(self, key):\n",
    "        for i in range(len(self.primary_key)):\n",
    "            if self.primary_key[i] == key:\n",
    "                break\n",
    "        del self.primary_key[i]\n",
    "        del self.data[key]\n",
    "    \n",
    "    def show_table(self):\n",
    "        for key in self.primary_key:\n",
    "            print(\"{}: {}\".format(key, self.data[key]))"
   ]
  },
  {
   "cell_type": "code",
   "execution_count": 29,
   "metadata": {},
   "outputs": [],
   "source": [
    "table_example = Table()\n",
    "\n",
    "table_example.insert_row('а111аа90', ['bmw', 2016])\n",
    "table_example.insert_row('к011фт177', ['audi', 2018])"
   ]
  },
  {
   "cell_type": "code",
   "execution_count": 30,
   "metadata": {},
   "outputs": [
    {
     "name": "stdout",
     "output_type": "stream",
     "text": [
      "а111аа90: ['bmw', 2016]\n",
      "к011фт177: ['audi', 2018]\n"
     ]
    }
   ],
   "source": [
    "table_example.show_table()"
   ]
  },
  {
   "cell_type": "code",
   "execution_count": 31,
   "metadata": {},
   "outputs": [
    {
     "ename": "ValueError",
     "evalue": "Primary Keys must be unique. Key 'а111аа90' already exists",
     "output_type": "error",
     "traceback": [
      "\u001b[1;31m---------------------------------------------------------------------------\u001b[0m",
      "\u001b[1;31mValueError\u001b[0m                                Traceback (most recent call last)",
      "\u001b[1;32m<ipython-input-229-7cd0264f2d1b>\u001b[0m in \u001b[0;36m<module>\u001b[1;34m()\u001b[0m\n\u001b[1;32m----> 1\u001b[1;33m \u001b[0mtable_example\u001b[0m\u001b[1;33m.\u001b[0m\u001b[0minsert_row\u001b[0m\u001b[1;33m(\u001b[0m\u001b[1;34m'а111аа90'\u001b[0m\u001b[1;33m,\u001b[0m \u001b[1;33m[\u001b[0m\u001b[1;34m'reno'\u001b[0m\u001b[1;33m,\u001b[0m \u001b[1;36m2018\u001b[0m\u001b[1;33m]\u001b[0m\u001b[1;33m)\u001b[0m\u001b[1;33m\u001b[0m\u001b[0m\n\u001b[0m",
      "\u001b[1;32m<ipython-input-226-6578d95092d6>\u001b[0m in \u001b[0;36minsert_row\u001b[1;34m(self, key, row)\u001b[0m\n\u001b[0;32m     19\u001b[0m \u001b[1;33m\u001b[0m\u001b[0m\n\u001b[0;32m     20\u001b[0m     \u001b[1;32mdef\u001b[0m \u001b[0minsert_row\u001b[0m\u001b[1;33m(\u001b[0m\u001b[0mself\u001b[0m\u001b[1;33m,\u001b[0m \u001b[0mkey\u001b[0m\u001b[1;33m,\u001b[0m \u001b[0mrow\u001b[0m\u001b[1;33m)\u001b[0m\u001b[1;33m:\u001b[0m\u001b[1;33m\u001b[0m\u001b[0m\n\u001b[1;32m---> 21\u001b[1;33m         \u001b[0mself\u001b[0m\u001b[1;33m.\u001b[0m\u001b[0mprimary_key\u001b[0m \u001b[1;33m=\u001b[0m \u001b[0mkey\u001b[0m\u001b[1;33m\u001b[0m\u001b[0m\n\u001b[0m\u001b[0;32m     22\u001b[0m         \u001b[0mself\u001b[0m\u001b[1;33m.\u001b[0m\u001b[0mdata\u001b[0m\u001b[1;33m[\u001b[0m\u001b[0mkey\u001b[0m\u001b[1;33m]\u001b[0m \u001b[1;33m=\u001b[0m \u001b[0mrow\u001b[0m\u001b[1;33m\u001b[0m\u001b[0m\n\u001b[0;32m     23\u001b[0m \u001b[1;33m\u001b[0m\u001b[0m\n",
      "\u001b[1;32m<ipython-input-226-6578d95092d6>\u001b[0m in \u001b[0;36m__set__\u001b[1;34m(self, instance, value)\u001b[0m\n\u001b[0;32m      7\u001b[0m             \u001b[1;32mraise\u001b[0m \u001b[0mValueError\u001b[0m\u001b[1;33m(\u001b[0m\u001b[1;34m\"Primary Key must be not null\"\u001b[0m\u001b[1;33m)\u001b[0m\u001b[1;33m\u001b[0m\u001b[0m\n\u001b[0;32m      8\u001b[0m         \u001b[1;32melif\u001b[0m \u001b[0mvalue\u001b[0m \u001b[1;32min\u001b[0m \u001b[0mself\u001b[0m\u001b[1;33m.\u001b[0m\u001b[0mexisting_values\u001b[0m\u001b[1;33m:\u001b[0m\u001b[1;33m\u001b[0m\u001b[0m\n\u001b[1;32m----> 9\u001b[1;33m             \u001b[1;32mraise\u001b[0m \u001b[0mValueError\u001b[0m\u001b[1;33m(\u001b[0m\u001b[1;34m\"Primary Keys must be unique. Key '{}' already exists\"\u001b[0m\u001b[1;33m.\u001b[0m\u001b[0mformat\u001b[0m\u001b[1;33m(\u001b[0m\u001b[0mvalue\u001b[0m\u001b[1;33m)\u001b[0m\u001b[1;33m)\u001b[0m\u001b[1;33m\u001b[0m\u001b[0m\n\u001b[0m\u001b[0;32m     10\u001b[0m         \u001b[0mself\u001b[0m\u001b[1;33m.\u001b[0m\u001b[0mexisting_values\u001b[0m\u001b[1;33m.\u001b[0m\u001b[0mappend\u001b[0m\u001b[1;33m(\u001b[0m\u001b[0mvalue\u001b[0m\u001b[1;33m)\u001b[0m\u001b[1;33m\u001b[0m\u001b[0m\n\u001b[0;32m     11\u001b[0m \u001b[1;33m\u001b[0m\u001b[0m\n",
      "\u001b[1;31mValueError\u001b[0m: Primary Keys must be unique. Key 'а111аа90' already exists"
     ]
    }
   ],
   "source": [
    "table_example.insert_row('а111аа90', ['reno', 2018])"
   ]
  },
  {
   "cell_type": "code",
   "execution_count": 32,
   "metadata": {},
   "outputs": [],
   "source": [
    "table_example.delete_row('а111аа90')"
   ]
  },
  {
   "cell_type": "code",
   "execution_count": 33,
   "metadata": {},
   "outputs": [
    {
     "name": "stdout",
     "output_type": "stream",
     "text": [
      "к011фт177: ['audi', 2018]\n"
     ]
    }
   ],
   "source": [
    "table_example.show_table()"
   ]
  },
  {
   "cell_type": "code",
   "execution_count": 34,
   "metadata": {},
   "outputs": [],
   "source": [
    "table_example.insert_row('а111аа90', ['reno', 2018])"
   ]
  },
  {
   "cell_type": "code",
   "execution_count": 35,
   "metadata": {},
   "outputs": [
    {
     "name": "stdout",
     "output_type": "stream",
     "text": [
      "к011фт177: ['audi', 2018]\n",
      "а111аа90: ['reno', 2018]\n"
     ]
    }
   ],
   "source": [
    "table_example.show_table()"
   ]
  },
  {
   "cell_type": "markdown",
   "metadata": {},
   "source": [
    "### Задача 5 [PositiveSmallIntegerField] (0.03 балла)\n",
    "\n",
    "**Условие:**\n",
    "\n",
    "С помощью механизма дескрипторов реализуйте тип данных PositiveSmallIntegerField - поле, принимающее значения от 0 до 32767."
   ]
  },
  {
   "cell_type": "code",
   "execution_count": 36,
   "metadata": {},
   "outputs": [],
   "source": [
    "PSIF_MIN_VALUE = 0\n",
    "PSIF_MAX_VALUE = 32767\n",
    "\n",
    "class PositiveSmallIntegerField:\n",
    "    def __init__(self, value=None):\n",
    "        self.value = value\n",
    "        \n",
    "    def __set__(self, instance, value):\n",
    "        if value < PSIF_MIN_VALUE or value > PSIF_MAX_VALUE:\n",
    "            raise ValueError(\"PositiveSmallIntegerField takes values from {} to {}\".format(PSIF_MIN_VALUE, PSIF_MAX_VALUE))\n",
    "        self.value = value\n",
    "\n",
    "    def __get__(self, instance, owner):\n",
    "        return self.value\n",
    "\n",
    "\n",
    "class PositiveSmallIntegerVariable:\n",
    "    value = PositiveSmallIntegerField()\n",
    "    def __init__(self, value):\n",
    "        self.value = value"
   ]
  },
  {
   "cell_type": "code",
   "execution_count": 37,
   "metadata": {},
   "outputs": [
    {
     "ename": "ValueError",
     "evalue": "PositiveSmallIntegerField takes values from 0 to 32767",
     "output_type": "error",
     "traceback": [
      "\u001b[1;31m---------------------------------------------------------------------------\u001b[0m",
      "\u001b[1;31mValueError\u001b[0m                                Traceback (most recent call last)",
      "\u001b[1;32m<ipython-input-272-daafbeef3706>\u001b[0m in \u001b[0;36m<module>\u001b[1;34m()\u001b[0m\n\u001b[1;32m----> 1\u001b[1;33m \u001b[0mb\u001b[0m \u001b[1;33m=\u001b[0m \u001b[0mPositiveSmallIntegerVariable\u001b[0m\u001b[1;33m(\u001b[0m\u001b[1;33m-\u001b[0m\u001b[1;36m10\u001b[0m\u001b[1;33m)\u001b[0m\u001b[1;33m\u001b[0m\u001b[0m\n\u001b[0m",
      "\u001b[1;32m<ipython-input-269-910fcfdfb9c3>\u001b[0m in \u001b[0;36m__init__\u001b[1;34m(self, value)\u001b[0m\n\u001b[0;32m     18\u001b[0m     \u001b[0mvalue\u001b[0m \u001b[1;33m=\u001b[0m \u001b[0mPositiveSmallIntegerField\u001b[0m\u001b[1;33m(\u001b[0m\u001b[1;33m)\u001b[0m\u001b[1;33m\u001b[0m\u001b[0m\n\u001b[0;32m     19\u001b[0m     \u001b[1;32mdef\u001b[0m \u001b[0m__init__\u001b[0m\u001b[1;33m(\u001b[0m\u001b[0mself\u001b[0m\u001b[1;33m,\u001b[0m \u001b[0mvalue\u001b[0m\u001b[1;33m)\u001b[0m\u001b[1;33m:\u001b[0m\u001b[1;33m\u001b[0m\u001b[0m\n\u001b[1;32m---> 20\u001b[1;33m         \u001b[0mself\u001b[0m\u001b[1;33m.\u001b[0m\u001b[0mvalue\u001b[0m \u001b[1;33m=\u001b[0m \u001b[0mvalue\u001b[0m\u001b[1;33m\u001b[0m\u001b[0m\n\u001b[0m",
      "\u001b[1;32m<ipython-input-269-910fcfdfb9c3>\u001b[0m in \u001b[0;36m__set__\u001b[1;34m(self, instance, value)\u001b[0m\n\u001b[0;32m      8\u001b[0m     \u001b[1;32mdef\u001b[0m \u001b[0m__set__\u001b[0m\u001b[1;33m(\u001b[0m\u001b[0mself\u001b[0m\u001b[1;33m,\u001b[0m \u001b[0minstance\u001b[0m\u001b[1;33m,\u001b[0m \u001b[0mvalue\u001b[0m\u001b[1;33m)\u001b[0m\u001b[1;33m:\u001b[0m\u001b[1;33m\u001b[0m\u001b[0m\n\u001b[0;32m      9\u001b[0m         \u001b[1;32mif\u001b[0m \u001b[0mvalue\u001b[0m \u001b[1;33m<\u001b[0m \u001b[0mPSIF_MIN_VALUE\u001b[0m \u001b[1;32mor\u001b[0m \u001b[0mvalue\u001b[0m \u001b[1;33m>\u001b[0m \u001b[0mPSIF_MAX_VALUE\u001b[0m\u001b[1;33m:\u001b[0m\u001b[1;33m\u001b[0m\u001b[0m\n\u001b[1;32m---> 10\u001b[1;33m             \u001b[1;32mraise\u001b[0m \u001b[0mValueError\u001b[0m\u001b[1;33m(\u001b[0m\u001b[1;34m\"PositiveSmallIntegerField takes values from {} to {}\"\u001b[0m\u001b[1;33m.\u001b[0m\u001b[0mformat\u001b[0m\u001b[1;33m(\u001b[0m\u001b[0mPSIF_MIN_VALUE\u001b[0m\u001b[1;33m,\u001b[0m \u001b[0mPSIF_MAX_VALUE\u001b[0m\u001b[1;33m)\u001b[0m\u001b[1;33m)\u001b[0m\u001b[1;33m\u001b[0m\u001b[0m\n\u001b[0m\u001b[0;32m     11\u001b[0m         \u001b[0mself\u001b[0m\u001b[1;33m.\u001b[0m\u001b[0mvalue\u001b[0m \u001b[1;33m=\u001b[0m \u001b[0mvalue\u001b[0m\u001b[1;33m\u001b[0m\u001b[0m\n\u001b[0;32m     12\u001b[0m \u001b[1;33m\u001b[0m\u001b[0m\n",
      "\u001b[1;31mValueError\u001b[0m: PositiveSmallIntegerField takes values from 0 to 32767"
     ]
    }
   ],
   "source": [
    "b = PositiveSmallIntegerVariable(-10)"
   ]
  },
  {
   "cell_type": "code",
   "execution_count": 38,
   "metadata": {},
   "outputs": [],
   "source": [
    "b = PositiveSmallIntegerVariable(100)"
   ]
  },
  {
   "cell_type": "code",
   "execution_count": 39,
   "metadata": {},
   "outputs": [
    {
     "ename": "ValueError",
     "evalue": "PositiveSmallIntegerField takes values from 0 to 32767",
     "output_type": "error",
     "traceback": [
      "\u001b[1;31m---------------------------------------------------------------------------\u001b[0m",
      "\u001b[1;31mValueError\u001b[0m                                Traceback (most recent call last)",
      "\u001b[1;32m<ipython-input-274-13dc8267f3d6>\u001b[0m in \u001b[0;36m<module>\u001b[1;34m()\u001b[0m\n\u001b[1;32m----> 1\u001b[1;33m \u001b[0mb\u001b[0m\u001b[1;33m.\u001b[0m\u001b[0mvalue\u001b[0m \u001b[1;33m=\u001b[0m \u001b[1;36m1798031\u001b[0m\u001b[1;33m\u001b[0m\u001b[0m\n\u001b[0m",
      "\u001b[1;32m<ipython-input-269-910fcfdfb9c3>\u001b[0m in \u001b[0;36m__set__\u001b[1;34m(self, instance, value)\u001b[0m\n\u001b[0;32m      8\u001b[0m     \u001b[1;32mdef\u001b[0m \u001b[0m__set__\u001b[0m\u001b[1;33m(\u001b[0m\u001b[0mself\u001b[0m\u001b[1;33m,\u001b[0m \u001b[0minstance\u001b[0m\u001b[1;33m,\u001b[0m \u001b[0mvalue\u001b[0m\u001b[1;33m)\u001b[0m\u001b[1;33m:\u001b[0m\u001b[1;33m\u001b[0m\u001b[0m\n\u001b[0;32m      9\u001b[0m         \u001b[1;32mif\u001b[0m \u001b[0mvalue\u001b[0m \u001b[1;33m<\u001b[0m \u001b[0mPSIF_MIN_VALUE\u001b[0m \u001b[1;32mor\u001b[0m \u001b[0mvalue\u001b[0m \u001b[1;33m>\u001b[0m \u001b[0mPSIF_MAX_VALUE\u001b[0m\u001b[1;33m:\u001b[0m\u001b[1;33m\u001b[0m\u001b[0m\n\u001b[1;32m---> 10\u001b[1;33m             \u001b[1;32mraise\u001b[0m \u001b[0mValueError\u001b[0m\u001b[1;33m(\u001b[0m\u001b[1;34m\"PositiveSmallIntegerField takes values from {} to {}\"\u001b[0m\u001b[1;33m.\u001b[0m\u001b[0mformat\u001b[0m\u001b[1;33m(\u001b[0m\u001b[0mPSIF_MIN_VALUE\u001b[0m\u001b[1;33m,\u001b[0m \u001b[0mPSIF_MAX_VALUE\u001b[0m\u001b[1;33m)\u001b[0m\u001b[1;33m)\u001b[0m\u001b[1;33m\u001b[0m\u001b[0m\n\u001b[0m\u001b[0;32m     11\u001b[0m         \u001b[0mself\u001b[0m\u001b[1;33m.\u001b[0m\u001b[0mvalue\u001b[0m \u001b[1;33m=\u001b[0m \u001b[0mvalue\u001b[0m\u001b[1;33m\u001b[0m\u001b[0m\n\u001b[0;32m     12\u001b[0m \u001b[1;33m\u001b[0m\u001b[0m\n",
      "\u001b[1;31mValueError\u001b[0m: PositiveSmallIntegerField takes values from 0 to 32767"
     ]
    }
   ],
   "source": [
    "b.value = 1798031"
   ]
  },
  {
   "cell_type": "code",
   "execution_count": 40,
   "metadata": {},
   "outputs": [
    {
     "data": {
      "text/plain": [
       "100"
      ]
     },
     "execution_count": 40,
     "metadata": {},
     "output_type": "execute_result"
    }
   ],
   "source": [
    "b.value"
   ]
  },
  {
   "cell_type": "markdown",
   "metadata": {},
   "source": [
    "### Задача 6 [Timer] (0.02 балла)\n",
    "\n",
    "**Условие:**\n",
    "\n",
    "Реализовать контекстный менеджер, который выводит время, проведенное в нём."
   ]
  },
  {
   "cell_type": "code",
   "execution_count": 41,
   "metadata": {},
   "outputs": [],
   "source": [
    "import time\n",
    "import random\n",
    "\n",
    "class Timer():\n",
    "    def __init__(self):\n",
    "        self.begin = time.time()\n",
    "    \n",
    "    def __enter__(self):\n",
    "        return\n",
    "    \n",
    "    def __exit__(self, exc_type, exc_value, traceback):\n",
    "        print(\"Spent time: {:.4f}\".format(time.time() - self.begin))"
   ]
  },
  {
   "cell_type": "code",
   "execution_count": 43,
   "metadata": {},
   "outputs": [
    {
     "name": "stdout",
     "output_type": "stream",
     "text": [
      "Spent time: 0.3851\n"
     ]
    }
   ],
   "source": [
    "with Timer():\n",
    "    time.sleep(random.randint(1, 5)*random.random())"
   ]
  },
  {
   "cell_type": "markdown",
   "metadata": {},
   "source": [
    " "
   ]
  }
 ],
 "metadata": {
  "kernelspec": {
   "display_name": "Python 3",
   "language": "python",
   "name": "python3"
  },
  "language_info": {
   "codemirror_mode": {
    "name": "ipython",
    "version": 3
   },
   "file_extension": ".py",
   "mimetype": "text/x-python",
   "name": "python",
   "nbconvert_exporter": "python",
   "pygments_lexer": "ipython3",
   "version": "3.6.5"
  }
 },
 "nbformat": 4,
 "nbformat_minor": 2
}
